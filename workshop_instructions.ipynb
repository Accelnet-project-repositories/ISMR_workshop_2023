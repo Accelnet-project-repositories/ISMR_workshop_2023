{
 "cells": [
  {
   "cell_type": "markdown",
   "metadata": {},
   "source": [
    "# Introduction\n",
    "\n",
    "<div>\n",
    "    <div style=\"display: inline-block;\">\n",
    "        <img src=\"images/raw_video.gif\" width=\"300\">\n",
    "    </div>\n",
    "    <div style=\"display: inline-block;\">\n",
    "        <img src=\"images/inferred_video.gif\" width=\"300\">\n",
    "    </div>\n",
    "</div>\n"
   ]
  },
  {
   "cell_type": "markdown",
   "metadata": {},
   "source": [
    "<div>\n",
    "    <div style=\"display: flex; flex-wrap: wrap;\">\n",
    "        <div style=\"flex: 50%; padding: 5px;\">\n",
    "            <img src=\"images/saturn.jpeg\" style=\"width: 300;\">\n",
    "        </div>\n",
    "        <div style=\"flex: 50%; padding: 5px;\">\n",
    "            <img src=\"images/saturn.jpeg\" style=\"width: 300;\">\n",
    "        </div>\n",
    "        <div style=\"flex: 50%; padding: 5px;\">\n",
    "            <img src=\"images/saturn.jpeg\" style=\"width: 300;\">\n",
    "        </div>\n",
    "        <div style=\"flex: 50%; padding: 5px;\">\n",
    "            <img src=\"images/saturn.jpeg\" style=\"width: 300;\">\n",
    "        </div>\n",
    "    </div>\n",
    "</div>"
   ]
  }
 ],
 "metadata": {
  "kernelspec": {
   "display_name": "Python 3",
   "language": "python",
   "name": "python3"
  },
  "language_info": {
   "codemirror_mode": {
    "name": "ipython",
    "version": 3
   },
   "file_extension": ".py",
   "mimetype": "text/x-python",
   "name": "python",
   "nbconvert_exporter": "python",
   "pygments_lexer": "ipython3",
   "version": "3.7.6"
  }
 },
 "nbformat": 4,
 "nbformat_minor": 4
}
