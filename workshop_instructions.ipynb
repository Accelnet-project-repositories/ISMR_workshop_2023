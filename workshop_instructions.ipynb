{
 "cells": [
  {
   "cell_type": "markdown",
   "metadata": {},
   "source": [
    "# Introduction\n",
    "\n",
    "In the following workshop, we will going through the process of  training deep learning models for [robotic instrument segmentation](https://endovissub2017-roboticinstrumentsegmentation.grand-challenge.org/) using data generated from the AMBF simulator. After following this workshop, you will have trained a deep learning model who will received images from your simulated scene (left image) and generates masks on top instruments (right image).\n",
    "\n",
    "<div>\n",
    "    <div style=\"display: inline-block;\">\n",
    "        <img src=\"images/raw_video.gif\" width=\"300\">\n",
    "    </div>\n",
    "    <div style=\"display: inline-block;\">\n",
    "        <img src=\"images/inferred_video.gif\" width=\"300\">\n",
    "    </div>\n",
    "</div>\n"
   ]
  },
  {
   "attachments": {},
   "cell_type": "markdown",
   "metadata": {},
   "source": [
    "# Prerequisites and software installation\n",
    "\n",
    "This tutorial assumes you have access to a Ubuntu 20.04 machine with ROS noetic installed. To train the segmentation model you will need GPU with at least 12GB of memory and NVIDIA drivers installed on your pc. In case, of not having a big enough GPU for training we will be providing instructions to train the network on the cloud service [Google colab](https://colab.research.google.com/). \n",
    "\n",
    "During the workshop, we will be working with two different python interpreters on your system: (1) The system-wide python interpreter and (2) a anaconda virtual environment. The main reason for using two interpreters is too avoid [polluting your system-wide interpreter](https://www.activestate.com/blog/how-to-manage-python-environments-global-vs-virtual/) with the machine-learning packages. If installing packages in your global interpreter is not a concern you, e.g., if you are working from a docker container, you can skip instructions regarding Anaconda installations and install everything in your global interpreter.\n",
    "\n",
    "## Software installation:\n",
    "\n",
    "Before starting the workshop please follow the steps below:\n",
    "\n",
    "1. Clone surgical Robotics Challenge assets ([here](https://github.com/jabarragann/surgical_robotics_challenge)). \n",
    "\n",
    "```bash\n",
    "#Download packages to stream images\n",
    "apt-get install ros-<version>-cv-bridge ros-<version>-image-transport\n",
    "#Clone surgical robotics challenge assets\n",
    "git clone https://github.com/jabarragann/surgical_robotics_challenge.git\n",
    "```\n",
    "\n",
    "2. AMBF installation: To install AMBF simulator we recomend you following the instructions shown [here](https://github.com/WPI-AIM/ambf).\n",
    "\n",
    "3. Install Anaconda for managing python virtual environments following the instructions [here](https://docs.anaconda.com/anaconda/install/linux/). During installation, you will be prompt to choose whether to initialize Anaconda Distribution by running conda init. Enter “yes”. After installation, excute the next instruction to prevent base environment automatic activation\n",
    "\n",
    "```bash\n",
    "conda config --set auto_activate_base False\n",
    "```\n",
    "\n",
    "**Note:** Keep in mind that having a Anaconda virtual env and ros env in the same terminal session can lead to problems. Do no install ROS or AMBF in a terminal session that has Anaconda activated.\n",
    "\n",
    "4. Clone semantic segmentation python packages from [here](https://github.com/Accelnet-project-repositories/dVRK-segmentation-models/tree/devel)\n",
    "\n",
    "```bash\n",
    "git clone https://github.com/Accelnet-project-repositories/dVRK-segmentation-models.git\n",
    "``` \n",
    "\n",
    "5. Create your anaconda virtual env and install dVRK-segmentation-model package.\n",
    "\n",
    "```bash\n",
    "cd <path-dVRK-segmentation-repo>\n",
    "sudo apt install ffmpeg # Required for data recording script\n",
    "conda create -n surg_env python=3.9 numpy ipython  -y && conda activate surg_env # Create and activate anacond virtual env\n",
    "pip install -e . -r requirements.txt #install all required packages on environment\n",
    "```\n",
    "\n",
    "The installation of the requirements will take about 2min-5min due to pytorch and cuda installations.\n",
    "\n",
    "\n",
    "\n",
    "\n"
   ]
  },
  {
   "cell_type": "code",
   "execution_count": null,
   "metadata": {},
   "outputs": [],
   "source": []
  }
 ],
 "metadata": {
  "kernelspec": {
   "display_name": "Python 3",
   "language": "python",
   "name": "python3"
  },
  "language_info": {
   "codemirror_mode": {
    "name": "ipython",
    "version": 3
   },
   "file_extension": ".py",
   "mimetype": "text/x-python",
   "name": "python",
   "nbconvert_exporter": "python",
   "pygments_lexer": "ipython3",
   "version": "3.7.6"
  }
 },
 "nbformat": 4,
 "nbformat_minor": 4
}
