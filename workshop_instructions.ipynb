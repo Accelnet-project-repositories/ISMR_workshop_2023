{
 "cells": [
  {
   "cell_type": "markdown",
   "metadata": {},
   "source": [
    "# Introduction\n",
    "\n",
    "In the following workshop, we will going through the process of  training deep learning models for [robotic instrument segmentation](https://endovissub2017-roboticinstrumentsegmentation.grand-challenge.org/) using data generated from the AMBF simulator. After following this workshop, you will have trained a deep learning model who will received images from your simulated scene (left image) and generates masks on top instruments (right image).\n",
    "\n",
    "<div>\n",
    "    <div style=\"display: inline-block;\">\n",
    "        <img src=\"images/raw_video.gif\" width=\"300\">\n",
    "    </div>\n",
    "    <div style=\"display: inline-block;\">\n",
    "        <img src=\"images/inferred_video.gif\" width=\"300\">\n",
    "    </div>\n",
    "</div>\n"
   ]
  },
  {
   "cell_type": "markdown",
   "metadata": {},
   "source": [
    "# Prerequisites and software installation\n",
    "\n",
    "This tutorial assumes you have access to a Ubuntu 20.04 machine with ROS noetic installed. To train the segmentation model you will need GPU with at least 12GB of memory and CUDA installed on your pc. In case, of not having a big enough GPU for training we will be providing instructions to train the network on the cloud service [Google colab](https://colab.research.google.com/)\n",
    "\n",
    "## Software installation:\n",
    "\n",
    "Before starting the workshop please follow the steps below:\n",
    "\n",
    "1. Clone surgical Robotics Challenge assets ([here](https://github.com/jabarragann/surgical_robotics_challenge)). \n",
    "\n",
    "```bash\n",
    "#Download packages to stream images\n",
    "apt-get install ros-<version>-cv-bridge ros-<version>-image-transport\n",
    "#Clone surgical robotics challenge assets\n",
    "git clone https://github.com/jabarragann/surgical_robotics_challenge.git\n",
    "```\n",
    "\n",
    "2. AMBF installation: To install AMBF simulator we recomend you following the instructions shown [here](https://github.com/WPI-AIM/ambf).\n",
    "\n",
    "3. Install Anaconda for managing python virtual environments following the instructions [here](https://docs.anaconda.com/anaconda/install/linux/). During installation, you will be prompt to choose whether to initialize Anaconda Distribution by running conda init. Enter “yes”. After installation, excute the next instruction to prevent base environment automatic activation\n",
    "\n",
    "```bash\n",
    "conda config --set auto_activate_base False\n",
    "```\n",
    "\n",
    "Keep in mind that having a Anaconda virtual env and ros env in the same terminal session can lead to problems.\n",
    "\n",
    "4. Clone semantic segmentation python packages from [here](https://github.com/Accelnet-project-repositories/dVRK-segmentation-models/tree/devel)\n",
    "\n",
    "```bash\n",
    "git clone https://github.com/Accelnet-project-repositories/dVRK-segmentation-models.git\n",
    "``` \n",
    "\n",
    "\n"
   ]
  },
  {
   "cell_type": "code",
   "execution_count": null,
   "metadata": {},
   "outputs": [],
   "source": []
  }
 ],
 "metadata": {
  "kernelspec": {
   "display_name": "Python 3",
   "language": "python",
   "name": "python3"
  },
  "language_info": {
   "codemirror_mode": {
    "name": "ipython",
    "version": 3
   },
   "file_extension": ".py",
   "mimetype": "text/x-python",
   "name": "python",
   "nbconvert_exporter": "python",
   "pygments_lexer": "ipython3",
   "version": "3.7.6"
  }
 },
 "nbformat": 4,
 "nbformat_minor": 4
}
