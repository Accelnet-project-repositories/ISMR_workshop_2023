{
 "cells": [
  {
   "attachments": {},
   "cell_type": "markdown",
   "metadata": {},
   "source": [
    "# Introduction\n",
    "\n",
    "<div>\n",
    "    <div style=\"display: inline-block;\">\n",
    "        <img src=\"images/jupyter.jpeg\" width=\"300\">\n",
    "    </div>\n",
    "    <div style=\"display: inline-block;\">\n",
    "        <img src=\"images/saturn.jpeg\" width=\"300\">\n",
    "    </div>\n",
    "</div>\n"
   ]
  },
  {
   "attachments": {},
   "cell_type": "markdown",
   "metadata": {},
   "source": [
    "<div>\n",
    "    <div style=\"display: flex; flex-wrap: wrap;\">\n",
    "        <div style=\"flex: 50%; padding: 5px;\">\n",
    "            <img src=\"images/saturn.jpeg\" style=\"width: 300;\">\n",
    "        </div>\n",
    "        <div style=\"flex: 50%; padding: 5px;\">\n",
    "            <img src=\"images/saturn.jpeg\" style=\"width: 300;\">\n",
    "        </div>\n",
    "        <div style=\"flex: 50%; padding: 5px;\">\n",
    "            <img src=\"images/saturn.jpeg\" style=\"width: 300;\">\n",
    "        </div>\n",
    "        <div style=\"flex: 50%; padding: 5px;\">\n",
    "            <img src=\"images/saturn.jpeg\" style=\"width: 300;\">\n",
    "        </div>\n",
    "    </div>\n",
    "</div>"
   ]
  }
 ],
 "metadata": {
  "language_info": {
   "name": "python"
  },
  "orig_nbformat": 4
 },
 "nbformat": 4,
 "nbformat_minor": 2
}
